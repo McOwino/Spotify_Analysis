{
 "cells": [
  {
   "cell_type": "code",
   "execution_count": 1,
   "id": "d2c1bbd6",
   "metadata": {},
   "outputs": [],
   "source": [
    "# importing the libraries\n",
    "import pandas as pd\n",
    "import numpy as np\n",
    "import matplotlib.pyplot as plt\n",
    "import seaborn as sns\n",
    "\n",
    "import warnings\n",
    "warnings.filterwarnings(\"ignore\")"
   ]
  },
  {
   "cell_type": "code",
   "execution_count": 2,
   "id": "058686be",
   "metadata": {},
   "outputs": [
    {
     "data": {
      "text/html": [
       "<div>\n",
       "<style scoped>\n",
       "    .dataframe tbody tr th:only-of-type {\n",
       "        vertical-align: middle;\n",
       "    }\n",
       "\n",
       "    .dataframe tbody tr th {\n",
       "        vertical-align: top;\n",
       "    }\n",
       "\n",
       "    .dataframe thead th {\n",
       "        text-align: right;\n",
       "    }\n",
       "</style>\n",
       "<table border=\"1\" class=\"dataframe\">\n",
       "  <thead>\n",
       "    <tr style=\"text-align: right;\">\n",
       "      <th></th>\n",
       "      <th>genre</th>\n",
       "      <th>artist_name</th>\n",
       "      <th>track_name</th>\n",
       "      <th>track_id</th>\n",
       "      <th>popularity</th>\n",
       "      <th>acousticness</th>\n",
       "      <th>danceability</th>\n",
       "      <th>duration_ms</th>\n",
       "      <th>energy</th>\n",
       "      <th>instrumentalness</th>\n",
       "      <th>key</th>\n",
       "      <th>liveness</th>\n",
       "      <th>loudness</th>\n",
       "      <th>mode</th>\n",
       "      <th>speechiness</th>\n",
       "      <th>tempo</th>\n",
       "      <th>time_signature</th>\n",
       "      <th>valence</th>\n",
       "    </tr>\n",
       "  </thead>\n",
       "  <tbody>\n",
       "    <tr>\n",
       "      <th>141342</th>\n",
       "      <td>Indie</td>\n",
       "      <td>STRFKR</td>\n",
       "      <td>Being No One, Going Nowhere</td>\n",
       "      <td>0RT5QxvDakfy5cFg55thUw</td>\n",
       "      <td>47</td>\n",
       "      <td>0.101000</td>\n",
       "      <td>0.655</td>\n",
       "      <td>279893</td>\n",
       "      <td>0.506</td>\n",
       "      <td>0.928000</td>\n",
       "      <td>G</td>\n",
       "      <td>0.1070</td>\n",
       "      <td>-5.699</td>\n",
       "      <td>Major</td>\n",
       "      <td>0.0253</td>\n",
       "      <td>93.971</td>\n",
       "      <td>4/4</td>\n",
       "      <td>0.207</td>\n",
       "    </tr>\n",
       "    <tr>\n",
       "      <th>126283</th>\n",
       "      <td>Classical</td>\n",
       "      <td>Gioachino Rossini</td>\n",
       "      <td>Il barbiere di Siviglia (The Barber of Seville...</td>\n",
       "      <td>0VXosruSrx0csDgAnaHZ9d</td>\n",
       "      <td>39</td>\n",
       "      <td>0.973000</td>\n",
       "      <td>0.388</td>\n",
       "      <td>276973</td>\n",
       "      <td>0.301</td>\n",
       "      <td>0.221000</td>\n",
       "      <td>C</td>\n",
       "      <td>0.0692</td>\n",
       "      <td>-17.959</td>\n",
       "      <td>Major</td>\n",
       "      <td>0.1860</td>\n",
       "      <td>77.175</td>\n",
       "      <td>4/4</td>\n",
       "      <td>0.402</td>\n",
       "    </tr>\n",
       "    <tr>\n",
       "      <th>181063</th>\n",
       "      <td>Jazz</td>\n",
       "      <td>B-Side</td>\n",
       "      <td>Sunshine</td>\n",
       "      <td>6nIuhyTDQxKTSTBLzuOnlX</td>\n",
       "      <td>35</td>\n",
       "      <td>0.233000</td>\n",
       "      <td>0.797</td>\n",
       "      <td>180500</td>\n",
       "      <td>0.310</td>\n",
       "      <td>0.666000</td>\n",
       "      <td>A#</td>\n",
       "      <td>0.0903</td>\n",
       "      <td>-10.565</td>\n",
       "      <td>Minor</td>\n",
       "      <td>0.1200</td>\n",
       "      <td>76.987</td>\n",
       "      <td>4/4</td>\n",
       "      <td>0.890</td>\n",
       "    </tr>\n",
       "    <tr>\n",
       "      <th>6700</th>\n",
       "      <td>Alternative</td>\n",
       "      <td>Creed</td>\n",
       "      <td>Weathered</td>\n",
       "      <td>33P0xVFGIPfCB2ZBCTGTY9</td>\n",
       "      <td>49</td>\n",
       "      <td>0.000968</td>\n",
       "      <td>0.417</td>\n",
       "      <td>330240</td>\n",
       "      <td>0.935</td>\n",
       "      <td>0.000004</td>\n",
       "      <td>G</td>\n",
       "      <td>0.2280</td>\n",
       "      <td>-4.658</td>\n",
       "      <td>Major</td>\n",
       "      <td>0.0547</td>\n",
       "      <td>143.893</td>\n",
       "      <td>4/4</td>\n",
       "      <td>0.318</td>\n",
       "    </tr>\n",
       "    <tr>\n",
       "      <th>106407</th>\n",
       "      <td>Opera</td>\n",
       "      <td>Gaetano Donizetti</td>\n",
       "      <td>La fille du régiment, Act I (Sung in Italian):...</td>\n",
       "      <td>3uFGK2sp47ltsVXQsGItkX</td>\n",
       "      <td>7</td>\n",
       "      <td>0.964000</td>\n",
       "      <td>0.497</td>\n",
       "      <td>140347</td>\n",
       "      <td>0.161</td>\n",
       "      <td>0.000000</td>\n",
       "      <td>C</td>\n",
       "      <td>0.2600</td>\n",
       "      <td>-15.627</td>\n",
       "      <td>Major</td>\n",
       "      <td>0.2310</td>\n",
       "      <td>113.312</td>\n",
       "      <td>3/4</td>\n",
       "      <td>0.258</td>\n",
       "    </tr>\n",
       "    <tr>\n",
       "      <th>56900</th>\n",
       "      <td>R&amp;B</td>\n",
       "      <td>Big Sean</td>\n",
       "      <td>Bigger Than Me</td>\n",
       "      <td>6zpXc7WJ3TqYWb02B6sKyF</td>\n",
       "      <td>58</td>\n",
       "      <td>0.296000</td>\n",
       "      <td>0.379</td>\n",
       "      <td>292520</td>\n",
       "      <td>0.644</td>\n",
       "      <td>0.000000</td>\n",
       "      <td>A#</td>\n",
       "      <td>0.3130</td>\n",
       "      <td>-7.933</td>\n",
       "      <td>Minor</td>\n",
       "      <td>0.1120</td>\n",
       "      <td>89.349</td>\n",
       "      <td>5/4</td>\n",
       "      <td>0.144</td>\n",
       "    </tr>\n",
       "    <tr>\n",
       "      <th>75431</th>\n",
       "      <td>Children's Music</td>\n",
       "      <td>Juice Music</td>\n",
       "      <td>Animal Crackers In My Soup</td>\n",
       "      <td>68Pa64EnvZSn8mITYYirL0</td>\n",
       "      <td>1</td>\n",
       "      <td>0.264000</td>\n",
       "      <td>0.851</td>\n",
       "      <td>99840</td>\n",
       "      <td>0.271</td>\n",
       "      <td>0.000025</td>\n",
       "      <td>G#</td>\n",
       "      <td>0.1630</td>\n",
       "      <td>-13.742</td>\n",
       "      <td>Major</td>\n",
       "      <td>0.1300</td>\n",
       "      <td>160.031</td>\n",
       "      <td>4/4</td>\n",
       "      <td>0.667</td>\n",
       "    </tr>\n",
       "    <tr>\n",
       "      <th>125780</th>\n",
       "      <td>Classical</td>\n",
       "      <td>George Frideric Handel</td>\n",
       "      <td>Messiah, HWV 56, Pt. 1: For unto Us a Child Is...</td>\n",
       "      <td>4zLiymxCEVxA3vfrOoHgoA</td>\n",
       "      <td>41</td>\n",
       "      <td>0.969000</td>\n",
       "      <td>0.405</td>\n",
       "      <td>244280</td>\n",
       "      <td>0.214</td>\n",
       "      <td>0.867000</td>\n",
       "      <td>G</td>\n",
       "      <td>0.0964</td>\n",
       "      <td>-17.717</td>\n",
       "      <td>Major</td>\n",
       "      <td>0.0336</td>\n",
       "      <td>102.324</td>\n",
       "      <td>4/4</td>\n",
       "      <td>0.320</td>\n",
       "    </tr>\n",
       "    <tr>\n",
       "      <th>1214</th>\n",
       "      <td>Alternative</td>\n",
       "      <td>Doja Cat</td>\n",
       "      <td>Juicy</td>\n",
       "      <td>4cTm3Ev9bUvy4ChJjB1nhl</td>\n",
       "      <td>67</td>\n",
       "      <td>0.081700</td>\n",
       "      <td>0.770</td>\n",
       "      <td>199587</td>\n",
       "      <td>0.697</td>\n",
       "      <td>0.000000</td>\n",
       "      <td>C</td>\n",
       "      <td>0.0663</td>\n",
       "      <td>-2.644</td>\n",
       "      <td>Major</td>\n",
       "      <td>0.0607</td>\n",
       "      <td>170.084</td>\n",
       "      <td>4/4</td>\n",
       "      <td>0.428</td>\n",
       "    </tr>\n",
       "  </tbody>\n",
       "</table>\n",
       "</div>"
      ],
      "text/plain": [
       "                   genre             artist_name  \\\n",
       "141342             Indie                  STRFKR   \n",
       "126283         Classical       Gioachino Rossini   \n",
       "181063              Jazz                  B-Side   \n",
       "6700         Alternative                   Creed   \n",
       "106407             Opera       Gaetano Donizetti   \n",
       "56900                R&B                Big Sean   \n",
       "75431   Children's Music             Juice Music   \n",
       "125780         Classical  George Frideric Handel   \n",
       "1214         Alternative                Doja Cat   \n",
       "\n",
       "                                               track_name  \\\n",
       "141342                        Being No One, Going Nowhere   \n",
       "126283  Il barbiere di Siviglia (The Barber of Seville...   \n",
       "181063                                           Sunshine   \n",
       "6700                                            Weathered   \n",
       "106407  La fille du régiment, Act I (Sung in Italian):...   \n",
       "56900                                      Bigger Than Me   \n",
       "75431                          Animal Crackers In My Soup   \n",
       "125780  Messiah, HWV 56, Pt. 1: For unto Us a Child Is...   \n",
       "1214                                                Juicy   \n",
       "\n",
       "                      track_id  popularity  acousticness  danceability  \\\n",
       "141342  0RT5QxvDakfy5cFg55thUw          47      0.101000         0.655   \n",
       "126283  0VXosruSrx0csDgAnaHZ9d          39      0.973000         0.388   \n",
       "181063  6nIuhyTDQxKTSTBLzuOnlX          35      0.233000         0.797   \n",
       "6700    33P0xVFGIPfCB2ZBCTGTY9          49      0.000968         0.417   \n",
       "106407  3uFGK2sp47ltsVXQsGItkX           7      0.964000         0.497   \n",
       "56900   6zpXc7WJ3TqYWb02B6sKyF          58      0.296000         0.379   \n",
       "75431   68Pa64EnvZSn8mITYYirL0           1      0.264000         0.851   \n",
       "125780  4zLiymxCEVxA3vfrOoHgoA          41      0.969000         0.405   \n",
       "1214    4cTm3Ev9bUvy4ChJjB1nhl          67      0.081700         0.770   \n",
       "\n",
       "        duration_ms  energy  instrumentalness key  liveness  loudness   mode  \\\n",
       "141342       279893   0.506          0.928000   G    0.1070    -5.699  Major   \n",
       "126283       276973   0.301          0.221000   C    0.0692   -17.959  Major   \n",
       "181063       180500   0.310          0.666000  A#    0.0903   -10.565  Minor   \n",
       "6700         330240   0.935          0.000004   G    0.2280    -4.658  Major   \n",
       "106407       140347   0.161          0.000000   C    0.2600   -15.627  Major   \n",
       "56900        292520   0.644          0.000000  A#    0.3130    -7.933  Minor   \n",
       "75431         99840   0.271          0.000025  G#    0.1630   -13.742  Major   \n",
       "125780       244280   0.214          0.867000   G    0.0964   -17.717  Major   \n",
       "1214         199587   0.697          0.000000   C    0.0663    -2.644  Major   \n",
       "\n",
       "        speechiness    tempo time_signature  valence  \n",
       "141342       0.0253   93.971            4/4    0.207  \n",
       "126283       0.1860   77.175            4/4    0.402  \n",
       "181063       0.1200   76.987            4/4    0.890  \n",
       "6700         0.0547  143.893            4/4    0.318  \n",
       "106407       0.2310  113.312            3/4    0.258  \n",
       "56900        0.1120   89.349            5/4    0.144  \n",
       "75431        0.1300  160.031            4/4    0.667  \n",
       "125780       0.0336  102.324            4/4    0.320  \n",
       "1214         0.0607  170.084            4/4    0.428  "
      ]
     },
     "execution_count": 2,
     "metadata": {},
     "output_type": "execute_result"
    }
   ],
   "source": [
    "# loading the data set onto the console\n",
    "data = pd.read_csv(\"SpotifyFeatures.csv\")\n",
    "\n",
    "data.sample(9)"
   ]
  },
  {
   "cell_type": "markdown",
   "id": "46f9aedc",
   "metadata": {},
   "source": [
    "#### Data Exploration"
   ]
  },
  {
   "cell_type": "code",
   "execution_count": 3,
   "id": "18de3668",
   "metadata": {},
   "outputs": [
    {
     "data": {
      "text/plain": [
       "(232725, 18)"
      ]
     },
     "execution_count": 3,
     "metadata": {},
     "output_type": "execute_result"
    }
   ],
   "source": [
    "# dimensionality of the data\n",
    "data.shape"
   ]
  },
  {
   "cell_type": "code",
   "execution_count": 4,
   "id": "99c88c0b",
   "metadata": {},
   "outputs": [
    {
     "name": "stdout",
     "output_type": "stream",
     "text": [
      "<class 'pandas.core.frame.DataFrame'>\n",
      "RangeIndex: 232725 entries, 0 to 232724\n",
      "Data columns (total 18 columns):\n",
      " #   Column            Non-Null Count   Dtype  \n",
      "---  ------            --------------   -----  \n",
      " 0   genre             232725 non-null  object \n",
      " 1   artist_name       232725 non-null  object \n",
      " 2   track_name        232725 non-null  object \n",
      " 3   track_id          232725 non-null  object \n",
      " 4   popularity        232725 non-null  int64  \n",
      " 5   acousticness      232725 non-null  float64\n",
      " 6   danceability      232725 non-null  float64\n",
      " 7   duration_ms       232725 non-null  int64  \n",
      " 8   energy            232725 non-null  float64\n",
      " 9   instrumentalness  232725 non-null  float64\n",
      " 10  key               232725 non-null  object \n",
      " 11  liveness          232725 non-null  float64\n",
      " 12  loudness          232725 non-null  float64\n",
      " 13  mode              232725 non-null  object \n",
      " 14  speechiness       232725 non-null  float64\n",
      " 15  tempo             232725 non-null  float64\n",
      " 16  time_signature    232725 non-null  object \n",
      " 17  valence           232725 non-null  float64\n",
      "dtypes: float64(9), int64(2), object(7)\n",
      "memory usage: 32.0+ MB\n"
     ]
    }
   ],
   "source": [
    "data.info()"
   ]
  },
  {
   "cell_type": "code",
   "execution_count": 5,
   "id": "a255ae11",
   "metadata": {},
   "outputs": [
    {
     "data": {
      "text/html": [
       "<div>\n",
       "<style scoped>\n",
       "    .dataframe tbody tr th:only-of-type {\n",
       "        vertical-align: middle;\n",
       "    }\n",
       "\n",
       "    .dataframe tbody tr th {\n",
       "        vertical-align: top;\n",
       "    }\n",
       "\n",
       "    .dataframe thead th {\n",
       "        text-align: right;\n",
       "    }\n",
       "</style>\n",
       "<table border=\"1\" class=\"dataframe\">\n",
       "  <thead>\n",
       "    <tr style=\"text-align: right;\">\n",
       "      <th></th>\n",
       "      <th>0</th>\n",
       "      <th>1</th>\n",
       "      <th>2</th>\n",
       "      <th>3</th>\n",
       "      <th>4</th>\n",
       "    </tr>\n",
       "  </thead>\n",
       "  <tbody>\n",
       "    <tr>\n",
       "      <th>genre</th>\n",
       "      <td>Movie</td>\n",
       "      <td>Movie</td>\n",
       "      <td>Movie</td>\n",
       "      <td>Movie</td>\n",
       "      <td>Movie</td>\n",
       "    </tr>\n",
       "    <tr>\n",
       "      <th>artist_name</th>\n",
       "      <td>Henri Salvador</td>\n",
       "      <td>Martin &amp; les fées</td>\n",
       "      <td>Joseph Williams</td>\n",
       "      <td>Henri Salvador</td>\n",
       "      <td>Fabien Nataf</td>\n",
       "    </tr>\n",
       "    <tr>\n",
       "      <th>track_name</th>\n",
       "      <td>C'est beau de faire un Show</td>\n",
       "      <td>Perdu d'avance (par Gad Elmaleh)</td>\n",
       "      <td>Don't Let Me Be Lonely Tonight</td>\n",
       "      <td>Dis-moi Monsieur Gordon Cooper</td>\n",
       "      <td>Ouverture</td>\n",
       "    </tr>\n",
       "    <tr>\n",
       "      <th>track_id</th>\n",
       "      <td>0BRjO6ga9RKCKjfDqeFgWV</td>\n",
       "      <td>0BjC1NfoEOOusryehmNudP</td>\n",
       "      <td>0CoSDzoNIKCRs124s9uTVy</td>\n",
       "      <td>0Gc6TVm52BwZD07Ki6tIvf</td>\n",
       "      <td>0IuslXpMROHdEPvSl1fTQK</td>\n",
       "    </tr>\n",
       "    <tr>\n",
       "      <th>popularity</th>\n",
       "      <td>0</td>\n",
       "      <td>1</td>\n",
       "      <td>3</td>\n",
       "      <td>0</td>\n",
       "      <td>4</td>\n",
       "    </tr>\n",
       "    <tr>\n",
       "      <th>acousticness</th>\n",
       "      <td>0.611</td>\n",
       "      <td>0.246</td>\n",
       "      <td>0.952</td>\n",
       "      <td>0.703</td>\n",
       "      <td>0.95</td>\n",
       "    </tr>\n",
       "    <tr>\n",
       "      <th>danceability</th>\n",
       "      <td>0.389</td>\n",
       "      <td>0.59</td>\n",
       "      <td>0.663</td>\n",
       "      <td>0.24</td>\n",
       "      <td>0.331</td>\n",
       "    </tr>\n",
       "    <tr>\n",
       "      <th>duration_ms</th>\n",
       "      <td>99373</td>\n",
       "      <td>137373</td>\n",
       "      <td>170267</td>\n",
       "      <td>152427</td>\n",
       "      <td>82625</td>\n",
       "    </tr>\n",
       "    <tr>\n",
       "      <th>energy</th>\n",
       "      <td>0.91</td>\n",
       "      <td>0.737</td>\n",
       "      <td>0.131</td>\n",
       "      <td>0.326</td>\n",
       "      <td>0.225</td>\n",
       "    </tr>\n",
       "    <tr>\n",
       "      <th>instrumentalness</th>\n",
       "      <td>0.0</td>\n",
       "      <td>0.0</td>\n",
       "      <td>0.0</td>\n",
       "      <td>0.0</td>\n",
       "      <td>0.123</td>\n",
       "    </tr>\n",
       "    <tr>\n",
       "      <th>key</th>\n",
       "      <td>C#</td>\n",
       "      <td>F#</td>\n",
       "      <td>C</td>\n",
       "      <td>C#</td>\n",
       "      <td>F</td>\n",
       "    </tr>\n",
       "    <tr>\n",
       "      <th>liveness</th>\n",
       "      <td>0.346</td>\n",
       "      <td>0.151</td>\n",
       "      <td>0.103</td>\n",
       "      <td>0.0985</td>\n",
       "      <td>0.202</td>\n",
       "    </tr>\n",
       "    <tr>\n",
       "      <th>loudness</th>\n",
       "      <td>-1.828</td>\n",
       "      <td>-5.559</td>\n",
       "      <td>-13.879</td>\n",
       "      <td>-12.178</td>\n",
       "      <td>-21.15</td>\n",
       "    </tr>\n",
       "    <tr>\n",
       "      <th>mode</th>\n",
       "      <td>Major</td>\n",
       "      <td>Minor</td>\n",
       "      <td>Minor</td>\n",
       "      <td>Major</td>\n",
       "      <td>Major</td>\n",
       "    </tr>\n",
       "    <tr>\n",
       "      <th>speechiness</th>\n",
       "      <td>0.0525</td>\n",
       "      <td>0.0868</td>\n",
       "      <td>0.0362</td>\n",
       "      <td>0.0395</td>\n",
       "      <td>0.0456</td>\n",
       "    </tr>\n",
       "    <tr>\n",
       "      <th>tempo</th>\n",
       "      <td>166.969</td>\n",
       "      <td>174.003</td>\n",
       "      <td>99.488</td>\n",
       "      <td>171.758</td>\n",
       "      <td>140.576</td>\n",
       "    </tr>\n",
       "    <tr>\n",
       "      <th>time_signature</th>\n",
       "      <td>4/4</td>\n",
       "      <td>4/4</td>\n",
       "      <td>5/4</td>\n",
       "      <td>4/4</td>\n",
       "      <td>4/4</td>\n",
       "    </tr>\n",
       "    <tr>\n",
       "      <th>valence</th>\n",
       "      <td>0.814</td>\n",
       "      <td>0.816</td>\n",
       "      <td>0.368</td>\n",
       "      <td>0.227</td>\n",
       "      <td>0.39</td>\n",
       "    </tr>\n",
       "  </tbody>\n",
       "</table>\n",
       "</div>"
      ],
      "text/plain": [
       "                                            0  \\\n",
       "genre                                   Movie   \n",
       "artist_name                    Henri Salvador   \n",
       "track_name        C'est beau de faire un Show   \n",
       "track_id               0BRjO6ga9RKCKjfDqeFgWV   \n",
       "popularity                                  0   \n",
       "acousticness                            0.611   \n",
       "danceability                            0.389   \n",
       "duration_ms                             99373   \n",
       "energy                                   0.91   \n",
       "instrumentalness                          0.0   \n",
       "key                                        C#   \n",
       "liveness                                0.346   \n",
       "loudness                               -1.828   \n",
       "mode                                    Major   \n",
       "speechiness                            0.0525   \n",
       "tempo                                 166.969   \n",
       "time_signature                            4/4   \n",
       "valence                                 0.814   \n",
       "\n",
       "                                                 1  \\\n",
       "genre                                        Movie   \n",
       "artist_name                      Martin & les fées   \n",
       "track_name        Perdu d'avance (par Gad Elmaleh)   \n",
       "track_id                    0BjC1NfoEOOusryehmNudP   \n",
       "popularity                                       1   \n",
       "acousticness                                 0.246   \n",
       "danceability                                  0.59   \n",
       "duration_ms                                 137373   \n",
       "energy                                       0.737   \n",
       "instrumentalness                               0.0   \n",
       "key                                             F#   \n",
       "liveness                                     0.151   \n",
       "loudness                                    -5.559   \n",
       "mode                                         Minor   \n",
       "speechiness                                 0.0868   \n",
       "tempo                                      174.003   \n",
       "time_signature                                 4/4   \n",
       "valence                                      0.816   \n",
       "\n",
       "                                               2  \\\n",
       "genre                                      Movie   \n",
       "artist_name                      Joseph Williams   \n",
       "track_name        Don't Let Me Be Lonely Tonight   \n",
       "track_id                  0CoSDzoNIKCRs124s9uTVy   \n",
       "popularity                                     3   \n",
       "acousticness                               0.952   \n",
       "danceability                               0.663   \n",
       "duration_ms                               170267   \n",
       "energy                                     0.131   \n",
       "instrumentalness                             0.0   \n",
       "key                                            C   \n",
       "liveness                                   0.103   \n",
       "loudness                                 -13.879   \n",
       "mode                                       Minor   \n",
       "speechiness                               0.0362   \n",
       "tempo                                     99.488   \n",
       "time_signature                               5/4   \n",
       "valence                                    0.368   \n",
       "\n",
       "                                               3                       4  \n",
       "genre                                      Movie                   Movie  \n",
       "artist_name                       Henri Salvador            Fabien Nataf  \n",
       "track_name        Dis-moi Monsieur Gordon Cooper               Ouverture  \n",
       "track_id                  0Gc6TVm52BwZD07Ki6tIvf  0IuslXpMROHdEPvSl1fTQK  \n",
       "popularity                                     0                       4  \n",
       "acousticness                               0.703                    0.95  \n",
       "danceability                                0.24                   0.331  \n",
       "duration_ms                               152427                   82625  \n",
       "energy                                     0.326                   0.225  \n",
       "instrumentalness                             0.0                   0.123  \n",
       "key                                           C#                       F  \n",
       "liveness                                  0.0985                   0.202  \n",
       "loudness                                 -12.178                  -21.15  \n",
       "mode                                       Major                   Major  \n",
       "speechiness                               0.0395                  0.0456  \n",
       "tempo                                    171.758                 140.576  \n",
       "time_signature                               4/4                     4/4  \n",
       "valence                                    0.227                    0.39  "
      ]
     },
     "execution_count": 5,
     "metadata": {},
     "output_type": "execute_result"
    }
   ],
   "source": [
    "data.head().T"
   ]
  },
  {
   "cell_type": "code",
   "execution_count": 6,
   "id": "02e74286",
   "metadata": {
    "scrolled": true
   },
   "outputs": [
    {
     "data": {
      "text/plain": [
       "genre               0.0\n",
       "artist_name         0.0\n",
       "track_name          0.0\n",
       "track_id            0.0\n",
       "popularity          0.0\n",
       "acousticness        0.0\n",
       "danceability        0.0\n",
       "duration_ms         0.0\n",
       "energy              0.0\n",
       "instrumentalness    0.0\n",
       "key                 0.0\n",
       "liveness            0.0\n",
       "loudness            0.0\n",
       "mode                0.0\n",
       "speechiness         0.0\n",
       "tempo               0.0\n",
       "time_signature      0.0\n",
       "valence             0.0\n",
       "dtype: float64"
      ]
     },
     "execution_count": 6,
     "metadata": {},
     "output_type": "execute_result"
    }
   ],
   "source": [
    "# identifying pressence of null values in percentage form\n",
    "data.isnull().sum()*100/len(data)"
   ]
  },
  {
   "cell_type": "code",
   "execution_count": 7,
   "id": "52942917",
   "metadata": {},
   "outputs": [
    {
     "data": {
      "text/plain": [
       "0"
      ]
     },
     "execution_count": 7,
     "metadata": {},
     "output_type": "execute_result"
    }
   ],
   "source": [
    "# exploring the pressence of duplicates\n",
    "data.duplicated().sum()"
   ]
  },
  {
   "cell_type": "code",
   "execution_count": 8,
   "id": "97c516af",
   "metadata": {},
   "outputs": [
    {
     "name": "stdout",
     "output_type": "stream",
     "text": [
      "The number of unique values in genre column : 27\n",
      "========================================\n",
      "The number of unique values in artist_name column : 14564\n",
      "========================================\n",
      "The number of unique values in track_name column : 148615\n",
      "========================================\n",
      "The number of unique values in track_id column : 176774\n",
      "========================================\n",
      "The number of unique values in key column : 12\n",
      "========================================\n",
      "The number of unique values in mode column : 2\n",
      "========================================\n",
      "The number of unique values in time_signature column : 5\n",
      "========================================\n"
     ]
    }
   ],
   "source": [
    "# number of unique values\n",
    "for column in data.select_dtypes(\"object\"):\n",
    "    print(f\"The number of unique values in {column} column : {data[column].nunique()}\")\n",
    "    print(\"=\"*40)"
   ]
  },
  {
   "cell_type": "code",
   "execution_count": 9,
   "id": "6b96903e",
   "metadata": {},
   "outputs": [
    {
     "data": {
      "text/plain": [
       "Index(['genre', 'artist_name', 'track_name', 'track_id', 'popularity',\n",
       "       'acousticness', 'danceability', 'duration_ms', 'energy',\n",
       "       'instrumentalness', 'key', 'liveness', 'loudness', 'mode',\n",
       "       'speechiness', 'tempo', 'time_signature', 'valence'],\n",
       "      dtype='object')"
      ]
     },
     "execution_count": 9,
     "metadata": {},
     "output_type": "execute_result"
    }
   ],
   "source": [
    "data.columns"
   ]
  },
  {
   "cell_type": "code",
   "execution_count": 10,
   "id": "b80f3af4",
   "metadata": {},
   "outputs": [],
   "source": [
    "# renaming the artist_name column\n",
    "# Rename the column\n",
    "data = data.rename(columns={'artist_name': 'artist'})"
   ]
  },
  {
   "cell_type": "code",
   "execution_count": 11,
   "id": "439c2b03",
   "metadata": {},
   "outputs": [],
   "source": [
    "# rearranging the columns\n",
    "new_order = ['artist', 'genre', 'mode','time_signature', 'duration_ms',\n",
    "             'track_name', 'track_id','acousticness', 'danceability','energy',\n",
    "             'instrumentalness', 'key', 'liveness', 'loudness','speechiness',\n",
    "             'tempo',  'valence', 'popularity']\n",
    "data = data[new_order]"
   ]
  },
  {
   "cell_type": "code",
   "execution_count": 12,
   "id": "41c71cfd",
   "metadata": {},
   "outputs": [],
   "source": [
    "# dropping the track name and the track id columns\n",
    "data.drop(['track_name', 'track_id'], axis = 1, inplace = True)"
   ]
  },
  {
   "cell_type": "code",
   "execution_count": 13,
   "id": "eeb44dda",
   "metadata": {},
   "outputs": [
    {
     "data": {
      "text/plain": [
       "array(['4/4', '5/4', '3/4', '1/4', '0/4'], dtype=object)"
      ]
     },
     "execution_count": 13,
     "metadata": {},
     "output_type": "execute_result"
    }
   ],
   "source": [
    "data.time_signature.unique()"
   ]
  },
  {
   "cell_type": "code",
   "execution_count": 14,
   "id": "986a4611",
   "metadata": {},
   "outputs": [],
   "source": [
    "# mapping of time signatures to understandable categories\n",
    "time_signature_mapping = {\n",
    "    '4/4': 'simple',\n",
    "    '5/4': 'complex',\n",
    "    '3/4': 'simple',\n",
    "    '1/4': 'complex',\n",
    "    '0/4': 'complex'\n",
    "}\n",
    "\n",
    "# Function to categorize time signatures\n",
    "def categorize_time_signature(signature):\n",
    "    return time_signature_mapping.get(signature, 'unknown')\n",
    "\n",
    "# Apply the mapping function to create a new \"category\" column\n",
    "data['time_signature'] = data['time_signature'].apply(categorize_time_signature)\n"
   ]
  },
  {
   "cell_type": "code",
   "execution_count": 15,
   "id": "573722b0",
   "metadata": {},
   "outputs": [
    {
     "name": "stdout",
     "output_type": "stream",
     "text": [
      "The Value Counts in artist column :\n",
      " Giuseppe Verdi             1394\n",
      "Giacomo Puccini            1137\n",
      "Kimbo Children's Music      971\n",
      "Nobuo Uematsu               825\n",
      "Richard Wagner              804\n",
      "Wolfgang Amadeus Mozart     800\n",
      "Randy Newman                757\n",
      "Georges Bizet               701\n",
      "Juice Music                 684\n",
      "Johann Sebastian Bach       632\n",
      "Ludwig van Beethoven        596\n",
      "Hans Zimmer                 559\n",
      "Gioachino Rossini           491\n",
      "Chorus                      480\n",
      "Howard Shore                479\n",
      "Drake                       477\n",
      "Henri Salvador              474\n",
      "John Williams               450\n",
      "Frédéric Chopin             436\n",
      "Alan Menken                 420\n",
      "Name: artist, dtype: int64\n",
      "========================================\n",
      "The Value Counts in genre column :\n",
      " Comedy              9681\n",
      "Soundtrack          9646\n",
      "Indie               9543\n",
      "Jazz                9441\n",
      "Pop                 9386\n",
      "Electronic          9377\n",
      "Children’s Music    9353\n",
      "Folk                9299\n",
      "Hip-Hop             9295\n",
      "Rock                9272\n",
      "Alternative         9263\n",
      "Classical           9256\n",
      "Rap                 9232\n",
      "World               9096\n",
      "Soul                9089\n",
      "Blues               9023\n",
      "R&B                 8992\n",
      "Anime               8936\n",
      "Reggaeton           8927\n",
      "Ska                 8874\n",
      "Name: genre, dtype: int64\n",
      "========================================\n",
      "The Value Counts in mode column :\n",
      " Major    151744\n",
      "Minor     80981\n",
      "Name: mode, dtype: int64\n",
      "========================================\n",
      "The Value Counts in time_signature column :\n",
      " simple     224871\n",
      "complex      7854\n",
      "Name: time_signature, dtype: int64\n",
      "========================================\n",
      "The Value Counts in key column :\n",
      " C     27583\n",
      "G     26390\n",
      "D     24077\n",
      "C#    23201\n",
      "A     22671\n",
      "F     20279\n",
      "B     17661\n",
      "E     17390\n",
      "A#    15526\n",
      "F#    15222\n",
      "G#    15159\n",
      "D#     7566\n",
      "Name: key, dtype: int64\n",
      "========================================\n"
     ]
    }
   ],
   "source": [
    "# the value counts of each object column\n",
    "for column in data.select_dtypes(\"object\"):\n",
    "    print(f\"The Value Counts in {column} column :\\n {data[column].value_counts().head(20)}\")\n",
    "    print(\"=\"*40)"
   ]
  },
  {
   "cell_type": "code",
   "execution_count": 16,
   "id": "8179fefa",
   "metadata": {},
   "outputs": [
    {
     "data": {
      "text/html": [
       "<div>\n",
       "<style scoped>\n",
       "    .dataframe tbody tr th:only-of-type {\n",
       "        vertical-align: middle;\n",
       "    }\n",
       "\n",
       "    .dataframe tbody tr th {\n",
       "        vertical-align: top;\n",
       "    }\n",
       "\n",
       "    .dataframe thead th {\n",
       "        text-align: right;\n",
       "    }\n",
       "</style>\n",
       "<table border=\"1\" class=\"dataframe\">\n",
       "  <thead>\n",
       "    <tr style=\"text-align: right;\">\n",
       "      <th></th>\n",
       "      <th>duration_ms</th>\n",
       "      <th>acousticness</th>\n",
       "      <th>danceability</th>\n",
       "      <th>energy</th>\n",
       "      <th>instrumentalness</th>\n",
       "      <th>liveness</th>\n",
       "      <th>loudness</th>\n",
       "      <th>speechiness</th>\n",
       "      <th>tempo</th>\n",
       "      <th>valence</th>\n",
       "      <th>popularity</th>\n",
       "    </tr>\n",
       "  </thead>\n",
       "  <tbody>\n",
       "    <tr>\n",
       "      <th>count</th>\n",
       "      <td>2.327250e+05</td>\n",
       "      <td>232725.000000</td>\n",
       "      <td>232725.000000</td>\n",
       "      <td>232725.000000</td>\n",
       "      <td>232725.000000</td>\n",
       "      <td>232725.000000</td>\n",
       "      <td>232725.000000</td>\n",
       "      <td>232725.000000</td>\n",
       "      <td>232725.000000</td>\n",
       "      <td>232725.000000</td>\n",
       "      <td>232725.000000</td>\n",
       "    </tr>\n",
       "    <tr>\n",
       "      <th>mean</th>\n",
       "      <td>2.351223e+05</td>\n",
       "      <td>0.368560</td>\n",
       "      <td>0.554364</td>\n",
       "      <td>0.570958</td>\n",
       "      <td>0.148301</td>\n",
       "      <td>0.215009</td>\n",
       "      <td>-9.569885</td>\n",
       "      <td>0.120765</td>\n",
       "      <td>117.666585</td>\n",
       "      <td>0.454917</td>\n",
       "      <td>41.127502</td>\n",
       "    </tr>\n",
       "    <tr>\n",
       "      <th>std</th>\n",
       "      <td>1.189359e+05</td>\n",
       "      <td>0.354768</td>\n",
       "      <td>0.185608</td>\n",
       "      <td>0.263456</td>\n",
       "      <td>0.302768</td>\n",
       "      <td>0.198273</td>\n",
       "      <td>5.998204</td>\n",
       "      <td>0.185518</td>\n",
       "      <td>30.898907</td>\n",
       "      <td>0.260065</td>\n",
       "      <td>18.189948</td>\n",
       "    </tr>\n",
       "    <tr>\n",
       "      <th>min</th>\n",
       "      <td>1.538700e+04</td>\n",
       "      <td>0.000000</td>\n",
       "      <td>0.056900</td>\n",
       "      <td>0.000020</td>\n",
       "      <td>0.000000</td>\n",
       "      <td>0.009670</td>\n",
       "      <td>-52.457000</td>\n",
       "      <td>0.022200</td>\n",
       "      <td>30.379000</td>\n",
       "      <td>0.000000</td>\n",
       "      <td>0.000000</td>\n",
       "    </tr>\n",
       "    <tr>\n",
       "      <th>25%</th>\n",
       "      <td>1.828570e+05</td>\n",
       "      <td>0.037600</td>\n",
       "      <td>0.435000</td>\n",
       "      <td>0.385000</td>\n",
       "      <td>0.000000</td>\n",
       "      <td>0.097400</td>\n",
       "      <td>-11.771000</td>\n",
       "      <td>0.036700</td>\n",
       "      <td>92.959000</td>\n",
       "      <td>0.237000</td>\n",
       "      <td>29.000000</td>\n",
       "    </tr>\n",
       "    <tr>\n",
       "      <th>50%</th>\n",
       "      <td>2.204270e+05</td>\n",
       "      <td>0.232000</td>\n",
       "      <td>0.571000</td>\n",
       "      <td>0.605000</td>\n",
       "      <td>0.000044</td>\n",
       "      <td>0.128000</td>\n",
       "      <td>-7.762000</td>\n",
       "      <td>0.050100</td>\n",
       "      <td>115.778000</td>\n",
       "      <td>0.444000</td>\n",
       "      <td>43.000000</td>\n",
       "    </tr>\n",
       "    <tr>\n",
       "      <th>75%</th>\n",
       "      <td>2.657680e+05</td>\n",
       "      <td>0.722000</td>\n",
       "      <td>0.692000</td>\n",
       "      <td>0.787000</td>\n",
       "      <td>0.035800</td>\n",
       "      <td>0.264000</td>\n",
       "      <td>-5.501000</td>\n",
       "      <td>0.105000</td>\n",
       "      <td>139.054000</td>\n",
       "      <td>0.660000</td>\n",
       "      <td>55.000000</td>\n",
       "    </tr>\n",
       "    <tr>\n",
       "      <th>max</th>\n",
       "      <td>5.552917e+06</td>\n",
       "      <td>0.996000</td>\n",
       "      <td>0.989000</td>\n",
       "      <td>0.999000</td>\n",
       "      <td>0.999000</td>\n",
       "      <td>1.000000</td>\n",
       "      <td>3.744000</td>\n",
       "      <td>0.967000</td>\n",
       "      <td>242.903000</td>\n",
       "      <td>1.000000</td>\n",
       "      <td>100.000000</td>\n",
       "    </tr>\n",
       "  </tbody>\n",
       "</table>\n",
       "</div>"
      ],
      "text/plain": [
       "        duration_ms   acousticness   danceability         energy  \\\n",
       "count  2.327250e+05  232725.000000  232725.000000  232725.000000   \n",
       "mean   2.351223e+05       0.368560       0.554364       0.570958   \n",
       "std    1.189359e+05       0.354768       0.185608       0.263456   \n",
       "min    1.538700e+04       0.000000       0.056900       0.000020   \n",
       "25%    1.828570e+05       0.037600       0.435000       0.385000   \n",
       "50%    2.204270e+05       0.232000       0.571000       0.605000   \n",
       "75%    2.657680e+05       0.722000       0.692000       0.787000   \n",
       "max    5.552917e+06       0.996000       0.989000       0.999000   \n",
       "\n",
       "       instrumentalness       liveness       loudness    speechiness  \\\n",
       "count     232725.000000  232725.000000  232725.000000  232725.000000   \n",
       "mean           0.148301       0.215009      -9.569885       0.120765   \n",
       "std            0.302768       0.198273       5.998204       0.185518   \n",
       "min            0.000000       0.009670     -52.457000       0.022200   \n",
       "25%            0.000000       0.097400     -11.771000       0.036700   \n",
       "50%            0.000044       0.128000      -7.762000       0.050100   \n",
       "75%            0.035800       0.264000      -5.501000       0.105000   \n",
       "max            0.999000       1.000000       3.744000       0.967000   \n",
       "\n",
       "               tempo        valence     popularity  \n",
       "count  232725.000000  232725.000000  232725.000000  \n",
       "mean      117.666585       0.454917      41.127502  \n",
       "std        30.898907       0.260065      18.189948  \n",
       "min        30.379000       0.000000       0.000000  \n",
       "25%        92.959000       0.237000      29.000000  \n",
       "50%       115.778000       0.444000      43.000000  \n",
       "75%       139.054000       0.660000      55.000000  \n",
       "max       242.903000       1.000000     100.000000  "
      ]
     },
     "execution_count": 16,
     "metadata": {},
     "output_type": "execute_result"
    }
   ],
   "source": [
    "# statistical summary of teh data\n",
    "data.describe()"
   ]
  },
  {
   "cell_type": "code",
   "execution_count": 17,
   "id": "b1b3c230",
   "metadata": {},
   "outputs": [
    {
     "data": {
      "text/html": [
       "<div>\n",
       "<style scoped>\n",
       "    .dataframe tbody tr th:only-of-type {\n",
       "        vertical-align: middle;\n",
       "    }\n",
       "\n",
       "    .dataframe tbody tr th {\n",
       "        vertical-align: top;\n",
       "    }\n",
       "\n",
       "    .dataframe thead th {\n",
       "        text-align: right;\n",
       "    }\n",
       "</style>\n",
       "<table border=\"1\" class=\"dataframe\">\n",
       "  <thead>\n",
       "    <tr style=\"text-align: right;\">\n",
       "      <th></th>\n",
       "      <th>artist</th>\n",
       "      <th>genre</th>\n",
       "      <th>mode</th>\n",
       "      <th>time_signature</th>\n",
       "      <th>duration_ms</th>\n",
       "      <th>acousticness</th>\n",
       "      <th>danceability</th>\n",
       "      <th>energy</th>\n",
       "      <th>instrumentalness</th>\n",
       "      <th>key</th>\n",
       "      <th>liveness</th>\n",
       "      <th>loudness</th>\n",
       "      <th>speechiness</th>\n",
       "      <th>tempo</th>\n",
       "      <th>valence</th>\n",
       "      <th>popularity</th>\n",
       "    </tr>\n",
       "  </thead>\n",
       "  <tbody>\n",
       "    <tr>\n",
       "      <th>135826</th>\n",
       "      <td>Lord Echo</td>\n",
       "      <td>Reggae</td>\n",
       "      <td>Major</td>\n",
       "      <td>simple</td>\n",
       "      <td>241920</td>\n",
       "      <td>0.23200</td>\n",
       "      <td>0.782</td>\n",
       "      <td>0.854</td>\n",
       "      <td>0.727000</td>\n",
       "      <td>G</td>\n",
       "      <td>0.0875</td>\n",
       "      <td>-7.739</td>\n",
       "      <td>0.0457</td>\n",
       "      <td>112.398</td>\n",
       "      <td>0.804</td>\n",
       "      <td>37</td>\n",
       "    </tr>\n",
       "    <tr>\n",
       "      <th>94788</th>\n",
       "      <td>Beck</td>\n",
       "      <td>Indie</td>\n",
       "      <td>Minor</td>\n",
       "      <td>simple</td>\n",
       "      <td>190448</td>\n",
       "      <td>0.00384</td>\n",
       "      <td>0.635</td>\n",
       "      <td>0.908</td>\n",
       "      <td>0.083400</td>\n",
       "      <td>C#</td>\n",
       "      <td>0.2390</td>\n",
       "      <td>-4.795</td>\n",
       "      <td>0.0563</td>\n",
       "      <td>110.012</td>\n",
       "      <td>0.637</td>\n",
       "      <td>63</td>\n",
       "    </tr>\n",
       "    <tr>\n",
       "      <th>135378</th>\n",
       "      <td>Sublime</td>\n",
       "      <td>Reggae</td>\n",
       "      <td>Major</td>\n",
       "      <td>simple</td>\n",
       "      <td>173960</td>\n",
       "      <td>0.02900</td>\n",
       "      <td>0.664</td>\n",
       "      <td>0.586</td>\n",
       "      <td>0.000754</td>\n",
       "      <td>A</td>\n",
       "      <td>0.1890</td>\n",
       "      <td>-7.649</td>\n",
       "      <td>0.0492</td>\n",
       "      <td>92.956</td>\n",
       "      <td>0.380</td>\n",
       "      <td>28</td>\n",
       "    </tr>\n",
       "    <tr>\n",
       "      <th>191118</th>\n",
       "      <td>Fishbone</td>\n",
       "      <td>Ska</td>\n",
       "      <td>Major</td>\n",
       "      <td>simple</td>\n",
       "      <td>192867</td>\n",
       "      <td>0.06120</td>\n",
       "      <td>0.512</td>\n",
       "      <td>0.806</td>\n",
       "      <td>0.000000</td>\n",
       "      <td>F</td>\n",
       "      <td>0.2050</td>\n",
       "      <td>-8.044</td>\n",
       "      <td>0.1150</td>\n",
       "      <td>176.918</td>\n",
       "      <td>0.833</td>\n",
       "      <td>14</td>\n",
       "    </tr>\n",
       "    <tr>\n",
       "      <th>208473</th>\n",
       "      <td>Hillsong UNITED</td>\n",
       "      <td>World</td>\n",
       "      <td>Major</td>\n",
       "      <td>simple</td>\n",
       "      <td>236880</td>\n",
       "      <td>0.02380</td>\n",
       "      <td>0.564</td>\n",
       "      <td>0.489</td>\n",
       "      <td>0.000000</td>\n",
       "      <td>D</td>\n",
       "      <td>0.1260</td>\n",
       "      <td>-8.330</td>\n",
       "      <td>0.0292</td>\n",
       "      <td>131.885</td>\n",
       "      <td>0.102</td>\n",
       "      <td>41</td>\n",
       "    </tr>\n",
       "  </tbody>\n",
       "</table>\n",
       "</div>"
      ],
      "text/plain": [
       "                 artist   genre   mode time_signature  duration_ms  \\\n",
       "135826        Lord Echo  Reggae  Major         simple       241920   \n",
       "94788              Beck   Indie  Minor         simple       190448   \n",
       "135378          Sublime  Reggae  Major         simple       173960   \n",
       "191118         Fishbone     Ska  Major         simple       192867   \n",
       "208473  Hillsong UNITED   World  Major         simple       236880   \n",
       "\n",
       "        acousticness  danceability  energy  instrumentalness key  liveness  \\\n",
       "135826       0.23200         0.782   0.854          0.727000   G    0.0875   \n",
       "94788        0.00384         0.635   0.908          0.083400  C#    0.2390   \n",
       "135378       0.02900         0.664   0.586          0.000754   A    0.1890   \n",
       "191118       0.06120         0.512   0.806          0.000000   F    0.2050   \n",
       "208473       0.02380         0.564   0.489          0.000000   D    0.1260   \n",
       "\n",
       "        loudness  speechiness    tempo  valence  popularity  \n",
       "135826    -7.739       0.0457  112.398    0.804          37  \n",
       "94788     -4.795       0.0563  110.012    0.637          63  \n",
       "135378    -7.649       0.0492   92.956    0.380          28  \n",
       "191118    -8.044       0.1150  176.918    0.833          14  \n",
       "208473    -8.330       0.0292  131.885    0.102          41  "
      ]
     },
     "execution_count": 17,
     "metadata": {},
     "output_type": "execute_result"
    }
   ],
   "source": [
    "data.sample(5)"
   ]
  },
  {
   "cell_type": "markdown",
   "id": "0187dce9",
   "metadata": {},
   "source": [
    "#### Modifying the artist name column"
   ]
  },
  {
   "cell_type": "code",
   "execution_count": 18,
   "id": "940dac43",
   "metadata": {},
   "outputs": [],
   "source": [
    "# creating a si,lar copy of data above\n",
    "data1 = data.copy()"
   ]
  },
  {
   "cell_type": "code",
   "execution_count": 19,
   "id": "27d59265",
   "metadata": {},
   "outputs": [
    {
     "data": {
      "text/plain": [
       "Giuseppe Verdi            1394\n",
       "Giacomo Puccini           1137\n",
       "Kimbo Children's Music     971\n",
       "Nobuo Uematsu              825\n",
       "Richard Wagner             804\n",
       "                          ... \n",
       "Marie Ruggieri               1\n",
       "Hijos De Leyva               1\n",
       "Rogue Traders                1\n",
       "Richard Haydn                1\n",
       "Sol Monk                     1\n",
       "Name: artist, Length: 14564, dtype: int64"
      ]
     },
     "execution_count": 19,
     "metadata": {},
     "output_type": "execute_result"
    }
   ],
   "source": [
    "# removing leading and trailling spaces in the artist name column\n",
    "data1[\"artist\"] = data1[\"artist\"].apply(lambda x: x.strip())\n",
    "\n",
    "data1_value = data1[\"artist\"].value_counts()\n",
    "\n",
    "data1_value"
   ]
  },
  {
   "cell_type": "code",
   "execution_count": 20,
   "id": "5b88cf16",
   "metadata": {},
   "outputs": [
    {
     "data": {
      "text/plain": [
       "Joss Stone           20\n",
       "Alesso               20\n",
       "Rina Sawayama        20\n",
       "Ingrid Michaelson    20\n",
       "Valentino Khan       20\n",
       "                     ..\n",
       "Marie Ruggieri        1\n",
       "Hijos De Leyva        1\n",
       "Rogue Traders         1\n",
       "Richard Haydn         1\n",
       "Sol Monk              1\n",
       "Name: artist, Length: 11656, dtype: int64"
      ]
     },
     "execution_count": 20,
     "metadata": {},
     "output_type": "execute_result"
    }
   ],
   "source": [
    "artist_less_than_twenty = data1_value[data1_value <= 20]\n",
    "\n",
    "artist_less_than_twenty"
   ]
  },
  {
   "cell_type": "code",
   "execution_count": 21,
   "id": "cc948428",
   "metadata": {},
   "outputs": [],
   "source": [
    "# assigning \"others\" to artist with less than 20 in value counts\n",
    "data1[\"artist\"] = data1[\"artist\"].apply(lambda x: \"others\" if x in artist_less_than_twenty else x)"
   ]
  },
  {
   "cell_type": "code",
   "execution_count": 22,
   "id": "c008106d",
   "metadata": {},
   "outputs": [
    {
     "data": {
      "text/plain": [
       "others                    55809\n",
       "Giuseppe Verdi             1394\n",
       "Giacomo Puccini            1137\n",
       "Kimbo Children's Music      971\n",
       "Nobuo Uematsu               825\n",
       "                          ...  \n",
       "Anonimus                     21\n",
       "Brytiago                     21\n",
       "Kadhja Bonet                 21\n",
       "William Matthews             21\n",
       "We Are The Union             21\n",
       "Name: artist, Length: 2909, dtype: int64"
      ]
     },
     "execution_count": 22,
     "metadata": {},
     "output_type": "execute_result"
    }
   ],
   "source": [
    "# observing the changes\n",
    "data1[\"artist\"].value_counts()"
   ]
  },
  {
   "cell_type": "markdown",
   "id": "c487b065",
   "metadata": {},
   "source": [
    "#### Removing Outliers"
   ]
  },
  {
   "cell_type": "code",
   "execution_count": 23,
   "id": "0ca23402",
   "metadata": {},
   "outputs": [],
   "source": [
    "# creating a copy of data1\n",
    "data2 = data1.copy()"
   ]
  },
  {
   "cell_type": "code",
   "execution_count": 24,
   "id": "41de0b55",
   "metadata": {},
   "outputs": [
    {
     "data": {
      "text/plain": [
       "artist               object\n",
       "genre                object\n",
       "mode                 object\n",
       "time_signature       object\n",
       "duration_ms           int64\n",
       "acousticness        float64\n",
       "danceability        float64\n",
       "energy              float64\n",
       "instrumentalness    float64\n",
       "key                  object\n",
       "liveness            float64\n",
       "loudness            float64\n",
       "speechiness         float64\n",
       "tempo               float64\n",
       "valence             float64\n",
       "popularity            int64\n",
       "dtype: object"
      ]
     },
     "execution_count": 24,
     "metadata": {},
     "output_type": "execute_result"
    }
   ],
   "source": [
    "# datatypes of the columns in data2\n",
    "data2.dtypes"
   ]
  },
  {
   "cell_type": "code",
   "execution_count": 25,
   "id": "7941004c",
   "metadata": {},
   "outputs": [
    {
     "data": {
      "image/png": "[encoded data removed]",
      "text/plain": [
       "<Figure size 720x432 with 1 Axes>"
      ]
     },
     "metadata": {
      "needs_background": "light"
     },
     "output_type": "display_data"
    },
    {
     "data": {
      "image/png": "[encoded data removed]",
      "text/plain": [
       "<Figure size 720x432 with 1 Axes>"
      ]
     },
     "metadata": {
      "needs_background": "light"
     },
     "output_type": "display_data"
    },
    {
     "data": {
      "image/png": "[encoded data removed]",
      "text/plain": [
       "<Figure size 720x432 with 1 Axes>"
      ]
     },
     "metadata": {
      "needs_background": "light"
     },
     "output_type": "display_data"
    },
    {
     "data": {
      "image/png": "[encoded data removed]",
      "text/plain": [
       "<Figure size 720x432 with 1 Axes>"
      ]
     },
     "metadata": {
      "needs_background": "light"
     },
     "output_type": "display_data"
    },
    {
     "data": {
      "image/png": "[encoded data removed]",
      "text/plain": [
       "<Figure size 720x432 with 1 Axes>"
      ]
     },
     "metadata": {
      "needs_background": "light"
     },
     "output_type": "display_data"
    },
    {
     "data": {
      "image/png": "[encoded data removed]",
      "text/plain": [
       "<Figure size 720x432 with 1 Axes>"
      ]
     },
     "metadata": {
      "needs_background": "light"
     },
     "output_type": "display_data"
    },
    {
     "data": {
      "image/png": "[encoded data removed]",
      "text/plain": [
       "<Figure size 720x432 with 1 Axes>"
      ]
     },
     "metadata": {
      "needs_background": "light"
     },
     "output_type": "display_data"
    },
    {
     "data": {
      "image/png": "[encoded data removed]",
      "text/plain": [
       "<Figure size 720x432 with 1 Axes>"
      ]
     },
     "metadata": {
      "needs_background": "light"
     },
     "output_type": "display_data"
    },
    {
     "data": {
      "image/png": "[encoded data removed]",
      "text/plain": [
       "<Figure size 720x432 with 1 Axes>"
      ]
     },
     "metadata": {
      "needs_background": "light"
     },
     "output_type": "display_data"
    }
   ],
   "source": [
    "# identifying the ppressence of outliers using the boxplot technique\n",
    "for column in data2.select_dtypes(include = [\"float\",\"int\"]):\n",
    "    plt.figure(figsize=(10,6))\n",
    "    sns.boxplot(x = column, data = data2)\n",
    "    plt.title(f\"The Boxplot of {column}\")\n",
    "    plt.xlabel(column)\n",
    "    plt.show()"
   ]
  },
  {
   "cell_type": "code",
   "execution_count": 26,
   "id": "523abf23",
   "metadata": {},
   "outputs": [
    {
     "data": {
      "image/png": "[encoded data removed]",
      "text/plain": [
       "<Figure size 720x432 with 1 Axes>"
      ]
     },
     "metadata": {
      "needs_background": "light"
     },
     "output_type": "display_data"
    }
   ],
   "source": [
    "plt.figure(figsize=(10,6))\n",
    "sns.boxplot(x = \"popularity\", data = data2)\n",
    "plt.title(\"The Boxplot of popularity\")\n",
    "plt.xlabel(\"popularity\")\n",
    "plt.show()"
   ]
  },
  {
   "cell_type": "code",
   "execution_count": 27,
   "id": "466b8c39",
   "metadata": {},
   "outputs": [
    {
     "data": {
      "text/plain": [
       "Index(['acousticness', 'danceability', 'energy', 'instrumentalness',\n",
       "       'liveness', 'loudness', 'speechiness', 'tempo', 'valence'],\n",
       "      dtype='object')"
      ]
     },
     "execution_count": 27,
     "metadata": {},
     "output_type": "execute_result"
    }
   ],
   "source": [
    "data2.select_dtypes(include = [\"float\",\"int\"]).columns"
   ]
  },
  {
   "cell_type": "code",
   "execution_count": 30,
   "id": "d879542a",
   "metadata": {},
   "outputs": [],
   "source": [
    "def remove_outliers_fences(data, column_name, lower_fence_multiplier=1.5, upper_fence_multiplier=1.5):\n",
    "   # Calculate the lower and upper quartiles\n",
    "    Q1 = data[column_name].quantile(0.25)\n",
    "    Q3 = data[column_name].quantile(0.75)\n",
    "    \n",
    "    # Calculate the IQR (Interquartile Range)\n",
    "    IQR = Q3 - Q1\n",
    "    \n",
    "    # Calculate the lower and upper fences\n",
    "    lower_fence = Q1 - lower_fence_multiplier * IQR\n",
    "    upper_fence = Q3 + upper_fence_multiplier * IQR\n",
    "    \n",
    "    # Remove outliers\n",
    "    data_no_outliers = data[(data[column_name] >= lower_fence) & (data[column_name] <= upper_fence)]\n",
    "    \n",
    "    return data_no_outliers\n"
   ]
  },
  {
   "cell_type": "code",
   "execution_count": 31,
   "id": "ea8593c2",
   "metadata": {},
   "outputs": [],
   "source": [
    "# Remove outliers using the function\n",
    "float_int_columns = ['acousticness', 'danceability', 'energy', 'instrumentalness',\n",
    "       'liveness', 'loudness', 'speechiness', 'tempo', 'valence', 'popularity']\n",
    "data2 = remove_outliers_fences(data2, float_int_columns)"
   ]
  },
  {
   "cell_type": "code",
   "execution_count": 32,
   "id": "fa6e2301",
   "metadata": {},
   "outputs": [
    {
     "data": {
      "image/png": "[encoded data removed]",
      "text/plain": [
       "<Figure size 720x432 with 1 Axes>"
      ]
     },
     "metadata": {
      "needs_background": "light"
     },
     "output_type": "display_data"
    },
    {
     "data": {
      "image/png": "[encoded data removed]",
      "text/plain": [
       "<Figure size 720x432 with 1 Axes>"
      ]
     },
     "metadata": {
      "needs_background": "light"
     },
     "output_type": "display_data"
    },
    {
     "data": {
      "image/png": "[encoded data removed]",
      "text/plain": [
       "<Figure size 720x432 with 1 Axes>"
      ]
     },
     "metadata": {
      "needs_background": "light"
     },
     "output_type": "display_data"
    },
    {
     "data": {
      "image/png": "[encoded data removed]",
      "text/plain": [
       "<Figure size 720x432 with 1 Axes>"
      ]
     },
     "metadata": {
      "needs_background": "light"
     },
     "output_type": "display_data"
    },
    {
     "data": {
      "image/png": "[encoded data removed]",
      "text/plain": [
       "<Figure size 720x432 with 1 Axes>"
      ]
     },
     "metadata": {
      "needs_background": "light"
     },
     "output_type": "display_data"
    },
    {
     "data": {
      "image/png": "[encoded data removed]",
      "text/plain": [
       "<Figure size 720x432 with 1 Axes>"
      ]
     },
     "metadata": {
      "needs_background": "light"
     },
     "output_type": "display_data"
    },
    {
     "data": {
      "image/png": "[encoded data removed]",
      "text/plain": [
       "<Figure size 720x432 with 1 Axes>"
      ]
     },
     "metadata": {
      "needs_background": "light"
     },
     "output_type": "display_data"
    },
    {
     "data": {
      "image/png": "[encoded data removed]",
      "text/plain": [
       "<Figure size 720x432 with 1 Axes>"
      ]
     },
     "metadata": {
      "needs_background": "light"
     },
     "output_type": "display_data"
    },
    {
     "data": {
      "image/png": "[encoded data removed]",
      "text/plain": [
       "<Figure size 720x432 with 1 Axes>"
      ]
     },
     "metadata": {
      "needs_background": "light"
     },
     "output_type": "display_data"
    },
    {
     "data": {
      "image/png": "[encoded data removed]",
      "text/plain": [
       "<Figure size 720x432 with 1 Axes>"
      ]
     },
     "metadata": {
      "needs_background": "light"
     },
     "output_type": "display_data"
    }
   ],
   "source": [
    "float_int_columns = ['acousticness', 'danceability', 'energy', 'instrumentalness',\n",
    "       'liveness', 'loudness', 'speechiness', 'tempo', 'valence', 'popularity']\n",
    "\n",
    "for column in float_int_columns:\n",
    "    plt.figure(figsize=(10,6))\n",
    "    sns.boxplot(x = column, data = data2, color = 'r')\n",
    "    plt.title(f\"The Boxplot of {column}\")\n",
    "    plt.xlabel(column)\n",
    "    plt.show()"
   ]
  },
  {
   "cell_type": "code",
   "execution_count": 33,
   "id": "54880756",
   "metadata": {},
   "outputs": [
    {
     "name": "stdout",
     "output_type": "stream",
     "text": [
      "Original Data shape : (232725, 16)\n",
      "\n",
      "New Data shape : (166985, 16)\n"
     ]
    }
   ],
   "source": [
    "# seeing how the original data and the new one vary interms of shape\n",
    "print(f\"Original Data shape : {data1.shape}\\n\")\n",
    "\n",
    "print(f\"New Data shape : {data2.shape}\")"
   ]
  },
  {
   "cell_type": "code",
   "execution_count": 37,
   "id": "700599a3",
   "metadata": {},
   "outputs": [
    {
     "name": "stdout",
     "output_type": "stream",
     "text": [
      " The number of ouliers removed are : 65740\n"
     ]
    }
   ],
   "source": [
    "# Outliers removed\n",
    "print(f\" The number of ouliers removed are : {data1.shape[0] - data2.shape[0]}\")"
   ]
  },
  {
   "cell_type": "code",
   "execution_count": null,
   "id": "804a0278",
   "metadata": {},
   "outputs": [],
   "source": []
  },
  {
   "cell_type": "code",
   "execution_count": null,
   "id": "d821c70f",
   "metadata": {},
   "outputs": [],
   "source": []
  },
  {
   "cell_type": "code",
   "execution_count": null,
   "id": "1a0cc6f6",
   "metadata": {},
   "outputs": [],
   "source": []
  },
  {
   "cell_type": "code",
   "execution_count": null,
   "id": "4bc9e671",
   "metadata": {},
   "outputs": [],
   "source": []
  },
  {
   "cell_type": "code",
   "execution_count": null,
   "id": "58f7bd5d",
   "metadata": {},
   "outputs": [],
   "source": []
  },
  {
   "cell_type": "code",
   "execution_count": null,
   "id": "c0a3c416",
   "metadata": {},
   "outputs": [],
   "source": []
  },
  {
   "cell_type": "code",
   "execution_count": null,
   "id": "aea29454",
   "metadata": {},
   "outputs": [],
   "source": []
  },
  {
   "cell_type": "code",
   "execution_count": null,
   "id": "b362c9e3",
   "metadata": {},
   "outputs": [],
   "source": []
  },
  {
   "cell_type": "code",
   "execution_count": null,
   "id": "89ceaf42",
   "metadata": {},
   "outputs": [],
   "source": []
  },
  {
   "cell_type": "code",
   "execution_count": null,
   "id": "e724cdef",
   "metadata": {},
   "outputs": [],
   "source": []
  },
  {
   "cell_type": "code",
   "execution_count": null,
   "id": "4f8d4810",
   "metadata": {},
   "outputs": [],
   "source": []
  },
  {
   "cell_type": "code",
   "execution_count": null,
   "id": "1d303449",
   "metadata": {},
   "outputs": [],
   "source": []
  },
  {
   "cell_type": "code",
   "execution_count": null,
   "id": "87ef509f",
   "metadata": {},
   "outputs": [],
   "source": []
  },
  {
   "cell_type": "code",
   "execution_count": null,
   "id": "88d895f2",
   "metadata": {},
   "outputs": [],
   "source": []
  },
  {
   "cell_type": "code",
   "execution_count": null,
   "id": "4ad9531c",
   "metadata": {},
   "outputs": [],
   "source": []
  },
  {
   "cell_type": "code",
   "execution_count": null,
   "id": "d0e840c7",
   "metadata": {},
   "outputs": [],
   "source": []
  },
  {
   "cell_type": "code",
   "execution_count": null,
   "id": "28f5c54e",
   "metadata": {},
   "outputs": [],
   "source": []
  },
  {
   "cell_type": "code",
   "execution_count": null,
   "id": "d679d723",
   "metadata": {},
   "outputs": [],
   "source": []
  },
  {
   "cell_type": "code",
   "execution_count": null,
   "id": "4536ff48",
   "metadata": {},
   "outputs": [],
   "source": []
  },
  {
   "cell_type": "code",
   "execution_count": null,
   "id": "6f140cdc",
   "metadata": {},
   "outputs": [],
   "source": []
  }
 ],
 "metadata": {
  "kernelspec": {
   "display_name": "Python 3",
   "language": "python",
   "name": "python3"
  },
  "language_info": {
   "codemirror_mode": {
    "name": "ipython",
    "version": 3
   },
   "file_extension": ".py",
   "mimetype": "text/x-python",
   "name": "python",
   "nbconvert_exporter": "python",
   "pygments_lexer": "ipython3",
   "version": "3.8.8"
  }
 },
 "nbformat": 4,
 "nbformat_minor": 5
}
